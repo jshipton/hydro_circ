{
 "cells": [
  {
   "cell_type": "code",
   "execution_count": null,
   "metadata": {
    "id": "WbhgpB0Kdj6h"
   },
   "outputs": [],
   "source": [
    "try:\n",
    "    import firedrake\n",
    "except ImportError:\n",
    "    !wget \"https://fem-on-colab.github.io/releases/firedrake-install-release-real.sh\" -O \"/tmp/firedrake-install.sh\" && bash \"/tmp/firedrake-install.sh\"\n",
    "    import firedrake"
   ]
  },
  {
   "cell_type": "code",
   "execution_count": null,
   "metadata": {
    "colab": {
     "base_uri": "https://localhost:8080/"
    },
    "id": "NTWQD4oKdlrt",
    "outputId": "f5c731c9-be2b-4bf2-a2e9-8f5f5624ad81"
   },
   "outputs": [],
   "source": [
    "try:\n",
    "  from gusto import *\n",
    "except ImportError:\n",
    "  !pip install git+https://github.com/firedrakeproject/gusto"
   ]
  },
  {
   "cell_type": "code",
   "execution_count": null,
   "metadata": {
    "id": "8Aaa3QwIgmWj"
   },
   "outputs": [],
   "source": [
    "# Import specific functions from Firedrake\n",
    "from firedrake import (SpatialCoordinate, TestFunction, TrialFunction, norm,\n",
    "                       Function, dx, lhs, rhs, inner, LinearVariationalProblem,\n",
    "                       LinearVariationalSolver, Constant, acos, exp, trisurf,\n",
    "                       tricontourf, functionspaceimpl)"
   ]
  },
  {
   "cell_type": "code",
   "execution_count": null,
   "metadata": {
    "id": "lv-DRvh5d1ko"
   },
   "outputs": [],
   "source": [
    "# Code in this cell makes plots appear an appropriate size and resolution in the browser window\n",
    "%config InlineBackend.figure_format = 'svg'\n",
    "\n",
    "import matplotlib.pyplot as plt\n",
    "from matplotlib import cm"
   ]
  },
  {
   "cell_type": "markdown",
   "metadata": {
    "id": "85ASIleteNji"
   },
   "source": [
    "This next cell contains some functions to interface between Firedrake and Matplotlib and to print out the min and max values of fields (useful when debugging!)."
   ]
  },
  {
   "cell_type": "code",
   "execution_count": null,
   "metadata": {
    "id": "omn7QAdVd3aR"
   },
   "outputs": [],
   "source": [
    "def plot_field(field):\n",
    "    # function to plot the field and show the plot - could be amended\n",
    "    # to save a figure instead and other plotting commands can be added\n",
    "    tsurf = trisurf(field)\n",
    "    plt.colorbar(tsurf)\n",
    "    plt.title(field.name())\n",
    "    plt.show()\n",
    "\n",
    "\n",
    "def plot_field_latlon(field):\n",
    "    # DON'T USE ME!!\n",
    "    # function to plot the field and show the plot - could be amended\n",
    "    # to save a figure instead and other plotting commands can be added\n",
    "    mesh_ll = get_flat_latlon_mesh(field.function_space().mesh())\n",
    "    field_ll = Function(\n",
    "        functionspaceimpl.WithGeometry.create(field.function_space(), mesh_ll),\n",
    "        val=field.topological,\n",
    "        name=field.name()\n",
    "    )\n",
    "    tsurf = tricontourf(field_ll)\n",
    "    plt.colorbar(contourf)\n",
    "    plt.title(field_ll.name())\n",
    "    plt.show()\n",
    "\n",
    "\n",
    "def print_minmax(field):\n",
    "    # function to print the min and max of field in a nice way\n",
    "    print(f\"min and max of {field.name()}: {field.dat.data.min()}, {field.dat.data.max()}\")\n"
   ]
  },
  {
   "cell_type": "markdown",
   "metadata": {
    "id": "Dx5rcP5jeb1S"
   },
   "source": [
    "The next cell contains physical parameters. It would be a good idea to finish commenting what they all are and what their units are!!"
   ]
  },
  {
   "cell_type": "code",
   "execution_count": null,
   "metadata": {
    "id": "k9OuP5Zhejfj"
   },
   "outputs": [],
   "source": [
    "R = 7160000.                 # radius of planet (m)\n",
    "Omega = 6.501e-6             # rotation rate of planet\n",
    "g = 10.9\n",
    "H = 2500.\n",
    "r = 3.6e-5\n",
    "alpha = 500.\n",
    "L = 2.5e6\n",
    "Rw = 416\n",
    "p0 = 1e5\n",
    "e0 = 2300*exp(L/(Rw*293.))\n",
    "q_ut = 0.004\n",
    "mB = 0.006029\n",
    "qW = q_ut\n",
    "rho0 = 1\n",
    "cH = 1e-3\n",
    "Cp = 1005.\n",
    "dtheta = 50\n",
    "qC = 0.018\n",
    "Qcl = 100."
   ]
  },
  {
   "cell_type": "markdown",
   "metadata": {
    "id": "aBKrmjYTes-K"
   },
   "source": [
    "The next cell sets up the domain and some of the finite element functions that we will use later."
   ]
  },
  {
   "cell_type": "code",
   "execution_count": null,
   "metadata": {
    "colab": {
     "base_uri": "https://localhost:8080/"
    },
    "id": "zBhfttKhezd8",
    "outputId": "6f5f0d3d-717a-457f-c51c-32111f88216a"
   },
   "outputs": [],
   "source": [
    "# set up mesh, timestep and use the Gusto domain function to set up\n",
    "# the finite element function spaces\n",
    "mesh = GeneralCubedSphereMesh(radius=R, num_cells_per_edge_of_panel=16,\n",
    "                              degree=2)\n",
    "dt = 100\n",
    "domain = Domain(mesh, dt, family=\"RTCF\", degree=1)\n",
    "\n",
    "# extract function spaces from domain\n",
    "Vu = domain.spaces(\"HDiv\")\n",
    "Vdg = domain.spaces(\"L2\")\n",
    "Vcg = domain.spaces(\"H1\")\n",
    "\n",
    "# we need the latitude and longitude coordinates later\n",
    "xyz = SpatialCoordinate(mesh)\n",
    "lon, lat, _ = lonlatr_from_xyz(*xyz)\n",
    "\n",
    "# =======================================================================\n",
    "# create the functions we need and name them\n",
    "w = Function(Vdg, name=\"w\")       # vertical velocity\n",
    "h = Function(Vdg, name='h')       # depth perturbation\n",
    "u = Function(Vu, name='u')        # velocity\n",
    "q = Function(Vdg, name='q')       # moisture\n",
    "qA = Function(Vdg, name='qA')     #\n",
    "E = Function(Vdg, name='E')       # evaporation\n",
    "P = Function(Vdg, name='P')       # precipitation"
   ]
  },
  {
   "cell_type": "markdown",
   "metadata": {
    "id": "VHn37JdZe5VJ"
   },
   "source": [
    "Now we setup functions for the Coriolis parameter, surface temperature and saturation function."
   ]
  },
  {
   "cell_type": "code",
   "execution_count": null,
   "metadata": {
    "id": "cfd7UYCHfAyN"
   },
   "outputs": [],
   "source": [
    "# Coriolis\n",
    "fexpr = 2*Omega*sin(lat)\n",
    "f = Function(Vcg).interpolate(fexpr)\n",
    "\n",
    "# fake surface temperature field: a constant Tmin plus Gaussian\n",
    "# perturbation centered on (lon_c, lat_c)\n",
    "lon_c = 0\n",
    "lat_c = 0\n",
    "Tmin = 155\n",
    "Tmax = 160\n",
    "\n",
    "def d(lon1, lat1, lon2, lat2):\n",
    "    # returns distance on sphere between (lon1, lat1) and (lon2, lat2)\n",
    "    return acos(sin(lat1)*sin(lat2) + cos(lat1)*cos(lat2)*cos(lon1-lon2))\n",
    "\n",
    "Ts = Function(Vdg, name='Ts')\n",
    "Ts.interpolate(Tmin + Tmax * exp(-d(lon_c, lat_c, lon, lat)**2))\n",
    "\n",
    "# saturation function\n",
    "qs = 0.622 * e0 * exp(-L/(Rw*Ts)) / p0"
   ]
  },
  {
   "cell_type": "markdown",
   "metadata": {
    "id": "gZ96dy7IfP4S"
   },
   "source": [
    "The next cell sets up the finite element form of the equations we are going to solve."
   ]
  },
  {
   "cell_type": "code",
   "execution_count": null,
   "metadata": {
    "id": "lPXbHRMGfOXJ"
   },
   "outputs": [],
   "source": [
    "# =======================================================================\n",
    "# setup the h equation and solver\n",
    "test_h = TestFunction(Vdg)\n",
    "trial_h = TrialFunction(Vdg)\n",
    "h0 = Function(Vdg)\n",
    "h_eqn = test_h * trial_h * dx + dt * test_h * (-w + h0/alpha) * dx\n",
    "h_lhs = lhs(h_eqn)\n",
    "h_rhs = rhs(h_eqn)\n",
    "h_prob = LinearVariationalProblem(h_lhs, h_rhs, h)\n",
    "h_solver = LinearVariationalSolver(h_prob)\n",
    "\n",
    "\n",
    "# =======================================================================\n",
    "# setup the u equation and solver\n",
    "test_u = TestFunction(Vu)\n",
    "trial_u = TrialFunction(Vu)\n",
    "u0 = Function(Vu)\n",
    "u_eqn = inner(test_u, trial_u) * dx + dt * (\n",
    "    inner(test_u, f*domain.perp(u) + r*u0) * dx - g * div(test_u) * h * dx\n",
    ")\n",
    "u_lhs = lhs(u_eqn)\n",
    "u_rhs = rhs(u_eqn)\n",
    "u_prob = LinearVariationalProblem(u_lhs, u_rhs, u)\n",
    "u_solver = LinearVariationalSolver(u_prob)\n",
    "\n",
    "\n",
    "# =======================================================================\n",
    "# setup the q equation and solver\n",
    "test_q = TestFunction(Vdg)\n",
    "trial_q = TrialFunction(Vdg)\n",
    "q0 = Function(Vdg)\n",
    "q_eqn = test_q * trial_q * dx + dt * test_q * ((q0 - qA) * div(u) - E + P) * dx\n",
    "q_lhs = lhs(q_eqn)\n",
    "q_rhs = rhs(q_eqn)\n",
    "q_prob = LinearVariationalProblem(q_lhs, q_rhs, q)\n",
    "q_solver = LinearVariationalSolver(q_prob)"
   ]
  },
  {
   "cell_type": "markdown",
   "metadata": {
    "id": "iw11lK6OfaZH"
   },
   "source": [
    "Now we define some expressions for calculating various fields - hopefully the naming is obvious: e.g. `E_expr` is the expression used to calculate the evaporation `E`."
   ]
  },
  {
   "cell_type": "code",
   "execution_count": null,
   "metadata": {
    "id": "74ykpZCkfaoI"
   },
   "outputs": [],
   "source": [
    "w_expr = (L * P - Qcl) / (H * rho0 * Cp * dtheta)\n",
    "qA_expr = conditional(w < 0, qW, 0)\n",
    "E_expr = rho0 * cH * sqrt(dot(u, u)) * (qs - q)\n",
    "P_expr = conditional(q > qC, mB * (q - q_ut), 0)"
   ]
  },
  {
   "cell_type": "markdown",
   "metadata": {
    "id": "U4Ee7JNzfoqj"
   },
   "source": [
    "Our initial conditions are that the height perturbation is zero (i.e. the depth of the atmosphere is H) and the horizontal velocity is zero. The initial water vapour is 0.7 times the saturation function. Where this is above `qC` there will be precipitation, and hence vertical velocity, so we compute `P` and then `w`."
   ]
  },
  {
   "cell_type": "code",
   "execution_count": null,
   "metadata": {
    "colab": {
     "base_uri": "https://localhost:8080/"
    },
    "id": "NiqwvBYDfrYz",
    "outputId": "6617a5fb-919f-4ecb-dd6a-07505ea86ad5"
   },
   "outputs": [],
   "source": [
    "# initial water vapour, q, is 0.7 * saturation value\n",
    "q.interpolate(0.7 * qs)\n",
    "# compute P from initial q\n",
    "P.interpolate(P_expr)\n",
    "# compute initial w\n",
    "w.interpolate(w_expr)"
   ]
  },
  {
   "cell_type": "markdown",
   "metadata": {
    "id": "6m74FWFhjjoU"
   },
   "source": [
    "Let's plot the initial fields:"
   ]
  },
  {
   "cell_type": "code",
   "execution_count": null,
   "metadata": {
    "colab": {
     "base_uri": "https://localhost:8080/",
     "height": 1000
    },
    "id": "_CyA5vYSjluu",
    "outputId": "650ed4f3-c9f4-4ccf-91ca-a015a2284b75"
   },
   "outputs": [],
   "source": [
    "plot_field(q)\n",
    "plot_field(P)\n",
    "plot_field(w)"
   ]
  },
  {
   "cell_type": "markdown",
   "metadata": {
    "id": "9IfnIocHgbYL"
   },
   "source": [
    "Now we can timestep!"
   ]
  },
  {
   "cell_type": "code",
   "execution_count": null,
   "metadata": {
    "colab": {
     "base_uri": "https://localhost:8080/"
    },
    "id": "BaF1N8o8gcpK",
    "outputId": "93da9abc-5b64-4fc9-9358-165f903411b4"
   },
   "outputs": [],
   "source": [
    "t = 0\n",
    "tmax = 100 * dt\n",
    "not_steady = True   # flag to indicate that we have not yet reached a\n",
    "                    # steady state\n",
    "tol = 1e-3          # tolerance with which to compute steady state\n",
    "\n",
    "# timeloop\n",
    "while not_steady and t < tmax:\n",
    "    t += dt\n",
    "    # compute h\n",
    "    h_solver.solve()\n",
    "    # compute u\n",
    "    u_solver.solve()\n",
    "    # update functions required to compute q\n",
    "    qA.interpolate(qA_expr)\n",
    "    E.interpolate(E_expr)\n",
    "    P.interpolate(P_expr)\n",
    "    # compute q\n",
    "    q_solver.solve()\n",
    "\n",
    "    print(f\"at time {t}, change in h is: {norm(h-h0)}\")\n",
    "    not_steady = norm(h-h0) > tol\n",
    "\n",
    "    # update fields\n",
    "    h0.assign(h)\n",
    "    u0.assign(u)\n",
    "    q0.assign(q)"
   ]
  },
  {
   "cell_type": "markdown",
   "metadata": {
    "id": "7ZwmR1TRkJDD"
   },
   "source": [
    "Now let's plot the final fields."
   ]
  },
  {
   "cell_type": "code",
   "execution_count": null,
   "metadata": {
    "colab": {
     "base_uri": "https://localhost:8080/",
     "height": 1000
    },
    "id": "H_LC3wG_kCJS",
    "outputId": "d251229e-20c2-4fce-e804-7f30c814b2da"
   },
   "outputs": [],
   "source": [
    "plot_field(q)\n",
    "plot_field(P)\n",
    "plot_field(w)"
   ]
  }
 ],
 "metadata": {
  "colab": {
   "provenance": []
  },
  "kernelspec": {
   "display_name": "Python 3",
   "name": "python3"
  },
  "language_info": {
   "name": "python"
  }
 },
 "nbformat": 4,
 "nbformat_minor": 0
}
