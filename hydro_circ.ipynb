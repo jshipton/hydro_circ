{
 "cells": [
  {
   "cell_type": "code",
   "execution_count": null,
   "metadata": {
    "id": "WbhgpB0Kdj6h"
   },
   "outputs": [],
   "source": [
    "try:\n",
    "    import firedrake\n",
    "except ImportError:\n",
    "    !wget \"https://fem-on-colab.github.io/releases/firedrake-install-release-real.sh\" -O \"/tmp/firedrake-install.sh\" && bash \"/tmp/firedrake-install.sh\"\n",
    "    import firedrake"
   ]
  },
  {
   "cell_type": "code",
   "execution_count": null,
   "metadata": {
    "id": "NTWQD4oKdlrt"
   },
   "outputs": [],
   "source": [
    "try:\n",
    "  from gusto import *\n",
    "except ImportError:\n",
    "  !pip install git+https://github.com/firedrakeproject/gusto\n",
    "  from gusto import *"
   ]
  },
  {
   "cell_type": "code",
   "execution_count": null,
   "metadata": {
    "id": "8Aaa3QwIgmWj"
   },
   "outputs": [],
   "source": [
    "# Import specific functions from Firedrake\n",
    "from firedrake import (SpatialCoordinate, TestFunction, TrialFunction, norm,\n",
    "                       Function, dx, lhs, rhs, inner, LinearVariationalProblem,\n",
    "                       LinearVariationalSolver, Constant, acos, exp, trisurf,\n",
    "                       tricontourf, functionspaceimpl, jump, dot, FacetNormal,\n",
    "                       CellVolume, avg, grad)"
   ]
  },
  {
   "cell_type": "code",
   "execution_count": null,
   "metadata": {
    "id": "ODHPBLXI4a8i"
   },
   "outputs": [],
   "source": [
    "try:\n",
    "  from tomplot import *\n",
    "except ImportError:\n",
    "  !pip install git+https://github.com/tommbendall/tomplot.git\n",
    "  from tomplot import *"
   ]
  },
  {
   "cell_type": "code",
   "execution_count": null,
   "metadata": {
    "id": "OTvh-OMQxQSb"
   },
   "outputs": [],
   "source": [
    "try:\n",
    "  import cartopy.crs as ccrs\n",
    "except ImportError:\n",
    "  !pip install cartopy\n",
    "  import cartopy.crs as ccrs\n",
    "import numpy as np"
   ]
  },
  {
   "cell_type": "code",
   "execution_count": null,
   "metadata": {
    "id": "lv-DRvh5d1ko"
   },
   "outputs": [],
   "source": [
    "# Code in this cell makes plots appear an appropriate size and resolution in the browser window\n",
    "%config InlineBackend.figure_format = 'svg'\n",
    "\n",
    "import matplotlib.pyplot as plt\n",
    "from matplotlib import cm"
   ]
  },
  {
   "cell_type": "markdown",
   "metadata": {
    "id": "85ASIleteNji"
   },
   "source": [
    "This next cell contains some functions to interface between Firedrake and Matplotlib and to print out the min and max values of fields (useful when debugging!)."
   ]
  },
  {
   "cell_type": "code",
   "execution_count": null,
   "metadata": {
    "id": "omn7QAdVd3aR"
   },
   "outputs": [],
   "source": [
    "def plot_field(field):\n",
    "    # function to plot the field and show the plot - could be amended\n",
    "    # to save a figure instead and other plotting commands can be added\n",
    "    tsurf = trisurf(field)\n",
    "    plt.colorbar(tsurf)\n",
    "    plt.title(field.name())\n",
    "    plt.show()\n",
    "\n",
    "\n",
    "def plot_field_latlon(field):\n",
    "    # function to plot the field and show the plot - could be amended\n",
    "    # to save a figure instead and other plotting commands can be added\n",
    "\n",
    "    # We need to regrid onto lon-lat grid -- specify that here\n",
    "    lon_1d = np.linspace(-180.0, 180.0, 120)\n",
    "    lat_1d = np.linspace(-90, 90, 120)\n",
    "    lon_2d, lat_2d = np.meshgrid(lon_1d, lat_1d, indexing='ij')\n",
    "\n",
    "    projection=ccrs.Robinson()\n",
    "    contour_method = 'contour'\n",
    "\n",
    "    # set up figure\n",
    "    fig = plt.figure(figsize=(10, 5))\n",
    "    ax = fig.add_subplot(1, 1, 1, projection=projection)\n",
    "\n",
    "    # get function space and field data\n",
    "    if field.name() == 'u':\n",
    "      mesh = field.function_space().mesh()\n",
    "      V = FunctionSpace(mesh, \"DG\", 1)\n",
    "      xyz = SpatialCoordinate(mesh)\n",
    "      rotated_pole = (0.0, pi/2)\n",
    "      e_lon, e_lat, _ = rotated_lonlatr_vectors(xyz, rotated_pole)\n",
    "      u_zonal = Function(V).interpolate(dot(field, e_lon)).dat.data_ro\n",
    "      u_merid = Function(V).interpolate(dot(field, e_lat)).dat.data_ro\n",
    "      field_data = np.sqrt(u_zonal**2 + u_merid**2)\n",
    "    else:\n",
    "      V = field.function_space()\n",
    "      field_data = field.dat.data_ro\n",
    "\n",
    "    # get lat lon coordinates of DOFs\n",
    "    x, y, z = SpatialCoordinate(V.mesh())\n",
    "    lon, lat, _ = lonlatr_from_xyz(x, y, z)\n",
    "    coords_X = Function(V).interpolate(180.0 / np.pi * lon).dat.data_ro\n",
    "    coords_Y = Function(V).interpolate(180.0 / np.pi * lat).dat.data_ro\n",
    "\n",
    "    # map field data to regular lat-lon grid\n",
    "    field_data = regrid_horizontal_slice(\n",
    "        lon_2d, lat_2d, coords_X, coords_Y, field_data, periodic_fix='sphere'\n",
    "    )\n",
    "\n",
    "    # generate 10 contours between min and max values of field\n",
    "    contours = np.linspace(field_data.min(), field_data.max(), 10)\n",
    "\n",
    "    # plot contours\n",
    "    cmap, lines = tomplot_cmap(contours)\n",
    "    cf, _ = plot_contoured_field(\n",
    "        ax, lon_2d, lat_2d, field_data, contour_method, contours,\n",
    "        cmap=cmap, line_contours=lines, projection=projection\n",
    "    )\n",
    "\n",
    "    # add colourbar and title\n",
    "    add_colorbar_ax(\n",
    "        ax, cf, field.name(), location='bottom', cbar_labelpad=-10,\n",
    "    )\n",
    "    tomplot_field_title(ax, None, minmax=True, field_data=field_data)\n",
    "\n",
    "    # add quivers if field is velocity\n",
    "    if field.name() == 'u':\n",
    "        # Need to re-grid to lat-lon grid to get sensible looking quivers\n",
    "        regrid_zonal_data = regrid_horizontal_slice(\n",
    "            lon_2d, lat_2d, coords_X, coords_Y, u_zonal,\n",
    "            periodic_fix='sphere'\n",
    "        )\n",
    "        regrid_meridional_data = regrid_horizontal_slice(\n",
    "            lon_2d, lat_2d, coords_X, coords_Y, u_merid,\n",
    "            periodic_fix='sphere'\n",
    "        )\n",
    "        plt.quiver(lon_2d[::5], lat_2d[::5], regrid_zonal_data[::5]/field_data[::5], regrid_meridional_data[::5]/field_data[::5])\n",
    "        #plot_field_quivers(\n",
    "        #    ax, lon_2d, lat_2d, regrid_zonal_data, regrid_meridional_data,\n",
    "        #    magnitude_filter=1.0, scale=10.,\n",
    "        #    projection=ccrs.PlateCarree()\n",
    "        #)\n",
    "\n",
    "    # show plot\n",
    "    plt.show()\n",
    "\n",
    "\n",
    "def print_minmax(field):\n",
    "    # function to print the min and max of field in a nice way\n",
    "    print(f\"min and max of {field.name()}: {field.dat.data.min()}, {field.dat.data.max()}\")\n"
   ]
  },
  {
   "cell_type": "markdown",
   "metadata": {
    "id": "Dx5rcP5jeb1S"
   },
   "source": [
    "The next cell contains planetary parameters relevant to Proxima B."
   ]
  },
  {
   "cell_type": "code",
   "execution_count": null,
   "metadata": {
    "id": "k9OuP5Zhejfj"
   },
   "outputs": [],
   "source": [
    "R = 7160000.                 # radius of planet (m)\n",
    "Omega = 6.501e-6             # rotation rate of planet (rad s^-1)\n",
    "g = 10.9                     # gravitational acceleration (m s^-2)\n",
    "H = 2500.                    # depth of atmospheric boundary layer (mean fluid depth) (m)"
   ]
  },
  {
   "cell_type": "markdown",
   "metadata": {
    "id": "6omZOCtqEKkg"
   },
   "source": [
    "Set up mesh, timestep and use Gusto to set up the finite element function spaces."
   ]
  },
  {
   "cell_type": "code",
   "execution_count": null,
   "metadata": {
    "colab": {
     "base_uri": "https://localhost:8080/"
    },
    "id": "zBhfttKhezd8",
    "outputId": "a974b51d-862b-4784-9e2e-8d116069c52c"
   },
   "outputs": [],
   "source": [
    "mesh = GeneralCubedSphereMesh(radius=R, num_cells_per_edge_of_panel=16,\n",
    "                              degree=2)\n",
    "dt = 100\n",
    "domain = Domain(mesh, dt, family=\"RTCF\", degree=1)\n",
    "\n",
    "# extract function spaces from domain\n",
    "Vu = domain.spaces(\"HDiv\")\n",
    "Vdg = domain.spaces(\"L2\")\n",
    "Vcg = domain.spaces(\"H1\")\n",
    "\n",
    "# we need the latitude and longitude coordinates later\n",
    "xyz = SpatialCoordinate(mesh)\n",
    "lon, lat, _ = lonlatr_from_xyz(*xyz)\n",
    "\n",
    "# =======================================================================\n",
    "# create the functions we need and name them\n",
    "w = Function(Vdg, name=\"w\")       # vertical velocity\n",
    "h = Function(Vdg, name='h')       # depth perturbation\n",
    "u = Function(Vu, name='u')        # velocity\n",
    "q = Function(Vdg, name='q')       # moisture\n",
    "qA = Function(Vdg, name='qA')     #\n",
    "E = Function(Vdg, name='E')       # evaporation\n",
    "P = Function(Vdg, name='P')       # precipitation"
   ]
  },
  {
   "cell_type": "markdown",
   "metadata": {
    "id": "664c0cba"
   },
   "source": [
    "We will solve the linear shallow water equations, written in terms of the 2D velocity, $\\textbf{u}$, and fluid free surface, $h$, coupled to an equation for a transported moisture variable, $q$:\n",
    "\n",
    "\\begin{align}\n",
    "\\textbf{u}_t + f \\textbf{u}^{\\perp} + g \\nabla h  + r\\textbf{u} &= 0, \\\\\n",
    "h_t -w &= \\frac{h}{\\alpha}, \\\\\n",
    "q_t + \\textbf{u} \\cdot \\nabla q + (q-q_A)\\nabla \\cdot \\textbf{u} &= \\frac{E-P}{\\rho_0 H},\n",
    "\\end{align}\n",
    "\n",
    "where $f$ is the Coriolis parameter, $g$ is the gravitational acceleration, $r$ is some friction parameter, $E$ represents evaporation, $P$ represents precipitation, $D = H + h$ where $H$ is the constant mean fluid depth and $h$ variations which are assumed to be much smaller, and we have assumed a flat bottom boundary. $\\alpha$ is a constant parameter that we set to give realistic values of $h$ and $\\textbf{u}$. No lateral boundary conditions are required as in this case we are solving on a spherical domain. In converging regions, we lose $q$ due to upward velocity. In diverging regions we lose $q$ due to horizontal divergence from the region, but gain $q_W$, a tropically averaged descending moisture. Given that $\\nabla q_W = 0$, we only care about the velocity derivative. We write $(q - q_A) \\nabla \\cdot \\mathbf{u}$, where $q_A = q_W$ when $w < 0$ and $q_A = 0$ when $w > 0$. We set $q_W=q_{ut}$, the upper tropospheric humidity.\n"
   ]
  },
  {
   "cell_type": "code",
   "execution_count": null,
   "metadata": {
    "id": "SXDA8ZbuCFWg"
   },
   "outputs": [],
   "source": [
    "r = 3.6e-5                   # linear coefficient of friction (N kg^-1 m^-1 s)\n",
    "alpha = 1e-5\n",
    "q_ut = 0.004                 # upper-tropospheric specific humidity (kg kg^-1)\n",
    "qW = q_ut                    # tropically averaged descending moisture (kg kg^-1). q_ut for now, but should be somewhat higher probably."
   ]
  },
  {
   "cell_type": "markdown",
   "metadata": {
    "id": "nXNzeMruL_iN"
   },
   "source": [
    "**Source and sink terms:**\n",
    "\n",
    "Evaporation:\n",
    "\\begin{equation*}\n",
    "E = \\rho_0 C_H |u| (q_S - q),\n",
    "\\end{equation*}\n",
    "\n",
    "where $q_S = 0.622 e_0\\exp(-L/(R_w T_S)) / p_0 $ is the saturation specific humidity, $e_0 = 2300 \\exp(L / (293R_w))$, $L = 2.5 \\times 10^6$ Jkg$^{-1}$ is the latent heat of condensation, $p_0 = 100000$ Pa is a reference pressure and $R_w = 416$ JK$^{-1}$kg$^{-1}$ is the specific gas constant for water vapour. $C_H = 1\\times10^{-3}$ is the bulk coefficient. _This might have to be cranked up to get enough evaporation -- at least initially when we set $q_W = q_{UT}$ and ignore the air-sea temperature difference, which will tend to enhance evaporation -- see below._"
   ]
  },
  {
   "cell_type": "code",
   "execution_count": null,
   "metadata": {
    "id": "UXpccjywMPkD"
   },
   "outputs": [],
   "source": [
    "rho0 = 1                     # constant density of boundary layer air (kg m^-3)\n",
    "cH = 1e-3                    # bulk coefficient (no units)\n",
    "L = 2.5e6                    # latent heat of condensation (J kg^-1)\n",
    "Rw = 416                     # specific gas constant for water vapour (J K^-1 kg^-1)\n",
    "e0 = 2300*exp(L/(Rw*293.))   # reference saturation vapour pressure (Pa)\n",
    "p0 = 1e5                     # reference pressure (Pa)"
   ]
  },
  {
   "cell_type": "markdown",
   "metadata": {
    "id": "DNgIOIMxMBDz"
   },
   "source": [
    "Precipitation:\n",
    "\\begin{equation*}\n",
    "P = M_B(q - q_{UT}),\n",
    "\\end{equation*}\n",
    "where $M_B = 0.006029$ kg m$^{-2}$ s$^{-1}$is the boundary layer overturning timescale (_not_ a convective timescale) and $q_{UT} = 0.004$ kg kg$^{-1}$ is the upper-tropospheric specific humidity, which is _fairly_ fixed."
   ]
  },
  {
   "cell_type": "code",
   "execution_count": null,
   "metadata": {
    "id": "Wt4Oe2UsNkUT"
   },
   "outputs": [],
   "source": [
    "mB = 0.006029                # boundary layer overturning timescale (kg m^-2 s^-1)"
   ]
  },
  {
   "cell_type": "markdown",
   "metadata": {
    "id": "eOexgD3DNlIZ"
   },
   "source": [
    "**Vertical velocity:**\n",
    "\n",
    "\\begin{align*}\n",
    "  \\rho_0 C_p \\Delta \\theta w &= LP - Q_{cl},\\\\\n",
    "w &= \\frac{LP - Q_{cl}}{\\rho_0 C_p \\Delta \\theta},\n",
    "\\end{align*}\n",
    "where $Q_{cl}$ is the net combined radiative-sensible cooling of the free atmosphere (cloud layer). A sensible initial value might be $Q_{cl} = 100$ Wm$^{-2}$, but it is likely to be substantially smaller in the convecting region (due to high cloud and water vapour amount) and on our planets due to the direct absorption of stellar radiation because M star's spectra are very red. $\\Delta \\theta$ is the change in potential temperature across the troposphere. Again, a sensible initial value to try is probably $\\Delta \\theta = 50$ K.\n",
    "\n",
    "Note that $w \\ne - H\\nabla \\cdot \\mathbf{u}$ in general. When the system is out of balance, $w$ pushes $h$ up and down. Changes in $h$ then cause changes in $\\mathbf{u}$. $w = -D\\nabla \\cdot \\mathbf{u}$ at equilibrium by continuity, however. (Not sure if that should drop out of the other equations?)\n",
    "\n",
    "***Final rule***. Precipitation (and therefore positive $w$) occur when $q > q_C$, where $q_C$ is the critical specific humidity for the initiation of convection. A sensible initial value might be $q_C = 0.018$ kg kg$^{-1}$. A more general discussion of optimisation is in the Appendices, but this one is probably important to get roughly right. We want $\\int w\\, dxdy \\sim 0$ in order to conserve mass. Notice that, unlike most other people's simple convective parameterisations in simple models, $q_C \\ne q_{UT}$.\n",
    "\n",
    "**DOES IT NEED SOME KIND OF DIFFUSION?** If velocity drops to zero does $\\nabla q$ go to infinity? _I leave it to your expertise..._"
   ]
  },
  {
   "cell_type": "code",
   "execution_count": null,
   "metadata": {
    "id": "VQTWmhdXNqq7"
   },
   "outputs": [],
   "source": [
    "Cp = 1005.                   # specific heat capacity at constant pressure of dry air (J K^-1 kg^-1)\n",
    "dtheta = 50                  # change in potential temperature across troposphere (K)\n",
    "Qcl = 100.                   # net combined radiative-sensible cooling of free atmosphere (W m^-2)\n",
    "qC = 0.018                   # critical specific humidity for initiation of convection (kg kg^-1)"
   ]
  },
  {
   "cell_type": "markdown",
   "metadata": {
    "id": "VHn37JdZe5VJ"
   },
   "source": [
    "Now we setup functions for the Coriolis parameter, surface temperature and saturation function."
   ]
  },
  {
   "cell_type": "code",
   "execution_count": null,
   "metadata": {
    "colab": {
     "base_uri": "https://localhost:8080/",
     "height": 440
    },
    "id": "cfd7UYCHfAyN",
    "outputId": "c04113d3-475a-49b4-ffdf-7f7820c25b33"
   },
   "outputs": [],
   "source": [
    "# Coriolis\n",
    "fexpr = 2*Omega*sin(lat)\n",
    "f = Function(Vcg).interpolate(fexpr)\n",
    "\n",
    "# fake surface temperature field: a constant Tmin plus Gaussian\n",
    "# perturbation centered on (lon_c, lat_c)\n",
    "lon_c = 0\n",
    "lat_c = 0\n",
    "Tmin = 230\n",
    "Tpert = 80\n",
    "\n",
    "def d(lon1, lat1, lon2, lat2):\n",
    "    # returns distance on sphere between (lon1, lat1) and (lon2, lat2)\n",
    "    return acos(sin(lat1)*sin(lat2) + cos(lat1)*cos(lat2)*cos(lon1-lon2))\n",
    "\n",
    "Ts = Function(Vdg, name='Ts')\n",
    "Ts.interpolate(Tmin + Tpert * exp(-d(lon_c, lat_c, lon, lat)**2/0.1))\n",
    "\n",
    "# saturation function\n",
    "qs = 0.622 * e0 * exp(-L/(Rw*Ts)) / p0\n",
    "plot_field(Ts)"
   ]
  },
  {
   "cell_type": "markdown",
   "metadata": {
    "id": "gZ96dy7IfP4S"
   },
   "source": [
    "The next cell sets up the finite element form of the equations we are going to solve."
   ]
  },
  {
   "cell_type": "code",
   "execution_count": null,
   "metadata": {
    "id": "lPXbHRMGfOXJ"
   },
   "outputs": [],
   "source": [
    "# =======================================================================\n",
    "# setup the h equation and solver\n",
    "test_h = TestFunction(Vdg)\n",
    "trial_h = TrialFunction(Vdg)\n",
    "h0 = Function(Vdg)\n",
    "n = FacetNormal(mesh)\n",
    "dx_max = 2*pi*R/(4*ncells)\n",
    "mu = 10/dx_max\n",
    "alpha = 0.00001\n",
    "print(1/alpha, mu)\n",
    "h_eqn = test_h * (trial_h - h0) * dx + dt * (\n",
    "    #- test_h * w * dx\n",
    "    + (1/alpha) * (\n",
    "        inner(grad(test_h), grad(h0)) * dx\n",
    "        - inner(2*avg(h0 * n), avg(grad(test_h))) * dS\n",
    "        - inner(avg(grad(h0)), 2*avg(test_h * n)) * dS\n",
    "        + mu * inner(2*avg(h0 * n), 2*avg(test_h * n)) * dS\n",
    "    )\n",
    ")\n",
    "h_lhs = lhs(h_eqn)\n",
    "h_rhs = rhs(h_eqn)\n",
    "h_prob = LinearVariationalProblem(h_lhs, h_rhs, h)\n",
    "h_solver = LinearVariationalSolver(h_prob)\n",
    "\n",
    "\n",
    "# =======================================================================\n",
    "# setup the u equation and solver\n",
    "test_u = TestFunction(Vu)\n",
    "trial_u = TrialFunction(Vu)\n",
    "u0 = Function(Vu)\n",
    "u_eqn = inner(test_u, (trial_u - u0)) * dx + dt * (\n",
    "    inner(test_u, f*domain.perp(u0) + r*u0) * dx + g * div(test_u) * h * dx\n",
    ")\n",
    "u_lhs = lhs(u_eqn)\n",
    "u_rhs = rhs(u_eqn)\n",
    "u_prob = LinearVariationalProblem(u_lhs, u_rhs, u)\n",
    "u_solver = LinearVariationalSolver(u_prob)\n",
    "\n",
    "\n",
    "# =======================================================================\n",
    "# setup the q equation and solver\n",
    "test_q = TestFunction(Vdg)\n",
    "trial_q = TrialFunction(Vdg)\n",
    "q0 = Function(Vdg)\n",
    "un = 0.5*(dot(u, n) + abs(dot(u, n)))\n",
    "q_eqn = test_q * (trial_q - q0) * dx + dt * (\n",
    "    - div(test_q * u) * q0 * dx\n",
    "    + dot(jump(test_q), (un('+')*q0('+') - un('-')*q0('-'))) * dS\n",
    "    + test_q * ((q0 - qA) * div(u)\n",
    "    - (E - P)/(rho0*H)) * dx\n",
    "    )\n",
    "q_lhs = lhs(q_eqn)\n",
    "q_rhs = rhs(q_eqn)\n",
    "q_prob = LinearVariationalProblem(q_lhs, q_rhs, q)\n",
    "q_solver = LinearVariationalSolver(q_prob)"
   ]
  },
  {
   "cell_type": "markdown",
   "metadata": {
    "id": "iw11lK6OfaZH"
   },
   "source": [
    "Now we define some expressions for calculating various fields - hopefully the naming is obvious: e.g. `E_expr` is the expression used to calculate the evaporation `E`."
   ]
  },
  {
   "cell_type": "code",
   "execution_count": null,
   "metadata": {},
   "outputs": [],
   "source": [
    "h0.assign(Ts)\n",
    "print(h0.dat.data.max())\n",
    "t = 0\n",
    "dt = 1000\n",
    "tmax = 1000*dt\n",
    "count = 0\n",
    "while t < tmax:\n",
    "    t += dt\n",
    "    count += 1\n",
    "    h_solver.solve()\n",
    "    h0.assign(h)\n",
    "    if count % 10 == 0:\n",
    "        print(h0.dat.data.max())\n",
    "        plot_field_latlon(h)\n",
    "plot_field_latlon(Ts)\n",
    "plot_field_latlon(h)"
   ]
  },
  {
   "cell_type": "code",
   "execution_count": null,
   "metadata": {
    "id": "74ykpZCkfaoI"
   },
   "outputs": [],
   "source": [
    "w_expr = (L * P - Qcl) / (rho0 * Cp * dtheta)\n",
    "qA_expr = conditional(w < 0, qW, 0)\n",
    "E_expr = conditional(qs > q0, rho0 * cH * sqrt(dot(u, u)) * (qs - q), 0)\n",
    "P_expr = conditional(q0 > qC, mB * (q0 - q_ut), 0)"
   ]
  },
  {
   "cell_type": "markdown",
   "metadata": {
    "id": "U4Ee7JNzfoqj"
   },
   "source": [
    "Our initial conditions are that the height perturbation is zero (i.e. the depth of the atmosphere is H) and the horizontal velocity is zero. The initial water vapour is 0.7 times the saturation function. Where this is above `qC` there will be precipitation, and hence vertical velocity, so we compute `P` and then `w`."
   ]
  },
  {
   "cell_type": "code",
   "execution_count": null,
   "metadata": {
    "colab": {
     "base_uri": "https://localhost:8080/"
    },
    "id": "NiqwvBYDfrYz",
    "outputId": "d74043dd-ab6b-4964-9ef4-d51d5e9eb367"
   },
   "outputs": [],
   "source": [
    "# initial water vapour, q, is 0.7 * saturation value\n",
    "q0.interpolate(0.7 * qs)\n",
    "q_init = Function(q0.function_space()).assign(q0)\n",
    "print_minmax(q0)\n",
    "print(qC)\n",
    "# compute P from initial q\n",
    "P.interpolate(P_expr)\n",
    "print_minmax(P)\n",
    "# compute initial w\n",
    "w.interpolate(w_expr)"
   ]
  },
  {
   "cell_type": "code",
   "execution_count": null,
   "metadata": {
    "colab": {
     "base_uri": "https://localhost:8080/",
     "height": 452
    },
    "id": "OjiuOMEt0YV3",
    "outputId": "6abd805b-1cd0-47ec-9eaf-d70cffa19403"
   },
   "outputs": [],
   "source": [
    "plot_field_latlon(q0)"
   ]
  },
  {
   "cell_type": "code",
   "execution_count": null,
   "metadata": {
    "colab": {
     "base_uri": "https://localhost:8080/",
     "height": 452
    },
    "id": "qlxopbtg0fhM",
    "outputId": "a654657c-3d4f-4374-e85a-82be87be8473"
   },
   "outputs": [],
   "source": [
    "plot_field_latlon(P)"
   ]
  },
  {
   "cell_type": "code",
   "execution_count": null,
   "metadata": {
    "colab": {
     "base_uri": "https://localhost:8080/",
     "height": 452
    },
    "id": "wU5Nlgg40kYa",
    "outputId": "b3366cc0-fa5a-42e0-9a1b-a02045ee8010"
   },
   "outputs": [],
   "source": [
    "plot_field_latlon(w)"
   ]
  },
  {
   "cell_type": "markdown",
   "metadata": {
    "id": "9IfnIocHgbYL"
   },
   "source": [
    "Now we can timestep!"
   ]
  },
  {
   "cell_type": "code",
   "execution_count": null,
   "metadata": {
    "colab": {
     "base_uri": "https://localhost:8080/",
     "height": 1000
    },
    "id": "BaF1N8o8gcpK",
    "outputId": "804bd75d-b7a2-481a-9cd7-ecda4b403816"
   },
   "outputs": [],
   "source": [
    "t = 0\n",
    "tmax = 100 * dt\n",
    "not_steady = True   # flag to indicate that we have not yet reached a\n",
    "                    # steady state\n",
    "tol = 1e-3          # tolerance with which to compute steady state\n",
    "\n",
    "# timeloop\n",
    "while not_steady and t < tmax:\n",
    "    t += dt\n",
    "    # update values in w\n",
    "    w.interpolate(w_expr)\n",
    "    # compute h\n",
    "    h_solver.solve()\n",
    "    # compute u\n",
    "    u_solver.solve()\n",
    "    # update functions required to compute q\n",
    "    qA.interpolate(qA_expr)\n",
    "    E.interpolate(E_expr)\n",
    "    P.interpolate(P_expr)\n",
    "    # compute q\n",
    "    q_solver.solve()\n",
    "\n",
    "    print(f\"at time {t}, change in h is: {norm(h-h0)}\")\n",
    "    # print(assemble(w*dx))\n",
    "    not_steady = norm(h-h0) > tol\n",
    "\n",
    "    # update fields\n",
    "    h0.assign(h)\n",
    "    u0.assign(u)\n",
    "    q0.assign(q)"
   ]
  },
  {
   "cell_type": "markdown",
   "metadata": {
    "id": "7ZwmR1TRkJDD"
   },
   "source": [
    "Now let's plot the final fields."
   ]
  },
  {
   "cell_type": "code",
   "execution_count": null,
   "metadata": {
    "id": "H_LC3wG_kCJS"
   },
   "outputs": [],
   "source": [
    "plot_field_latlon(q)"
   ]
  },
  {
   "cell_type": "code",
   "execution_count": null,
   "metadata": {
    "id": "RRtvp9AbFMYx"
   },
   "outputs": [],
   "source": [
    "q_diff = Function(q0.function_space()).assign(q-q0)\n",
    "print_minmax(q_diff)\n",
    "plot_field_latlon(q_diff)\n"
   ]
  },
  {
   "cell_type": "code",
   "execution_count": null,
   "metadata": {
    "id": "gVkyzEy0yvTy"
   },
   "outputs": [],
   "source": [
    "plot_field_latlon(h)"
   ]
  },
  {
   "cell_type": "code",
   "execution_count": null,
   "metadata": {
    "id": "HazVFGknuxw-"
   },
   "outputs": [],
   "source": [
    "plot_field_latlon(u)"
   ]
  },
  {
   "cell_type": "markdown",
   "metadata": {
    "id": "0oUOIvZhCynE"
   },
   "source": [
    "**Trying to fix continuity (1/7/25)**\n",
    "\n",
    "***NOTE: I'm all at sea with the signs, so someone will need to check this. I've just used the ones from the initial latex above.***\n",
    "\n",
    "The basic problem is that equilibrium $w$ should not be balanced by $h/\\alpha$. It should be balanced by a term like $\\frac{1}{\\alpha}\\nabla^2 h$. This is because _gradients_ of pressure balance velocities doing work against friction. Hence second derivatives of pressure (or equivalently layer thickness perturbation $h$) balance gradients of horizontal velocity, which are balanced by $w$.\n",
    "\n",
    "In the non-rotating case ($f=0$), I think it's fairly plain that\n",
    "\\begin{equation}\n",
    "h_t - w = \\frac{gH}{r}\\nabla^2 h.\n",
    "\\end{equation}\n",
    "At equilibrium (time derivatives = 0), substituting this into Jemma's momentum equation gives $w = -H \\nabla \\cdot \\mathbf{u}$ as required to satisfy continuity. In the rotating case we still want this balance, so we have to adapt the height equation to (I think?)\n",
    "\\begin{equation}\n",
    "h_t - w = \\frac{gH}{r}\\nabla^2 h + \\frac{H}{r}\\nabla \\cdot f \\textbf{u}^{\\perp}.\n",
    "\\end{equation}\n",
    "This means that as we crank up the planetary rotation, wind velocities have to increase to continue to allow heating to support the same amount of $w$. Not sure how I feel about that. Perhaps there should be some kind of dissipation too (which is what Gill 1980 does I think), but the planets are rotating pretty slowly so we'll stick with that for now. There's also \"work done\" to worry about, but I think that's fairly small."
   ]
  },
  {
   "cell_type": "markdown",
   "metadata": {
    "id": "6xivt0-3K8lQ"
   },
   "source": [
    "**Appendices**\n",
    "\n",
    "***Aside: Why $\\rho_0 C_p \\Delta \\theta w$?***\n",
    "\n",
    "The heating terms $LP$ and $Q$ are column-integrated over the troposphere and are therefore balanced by column integrated ascent:\n",
    "\\begin{equation*}\n",
    "\\rho_0 C_p \\int_{trop} w(z) \\frac{d\\theta}{dz} dz \\sim \\rho_0 C_p \\Delta \\theta \\bar{w},\n",
    "\\end{equation*}\n",
    "where $\\bar{w}$ is column-mean $w$ and the overbar is subsequently omitted because all equations are column-mean.\n",
    "\n",
    "\n",
    "**Doing a better job**\n",
    "\n",
    "Some quantities that I recommend prescribing to begin with can actually be calculated.\n",
    "\n",
    "\n",
    "***Tropospheric potential temperature difference***\n",
    "\n",
    "Initially we set $\\Delta \\theta = 50$ K, but we can calculate it. Set\n",
    "\\begin{equation}\n",
    "\\Delta \\theta = \\frac{L}{C_p}(q_{max} - q_{UT}),\n",
    "\\end{equation}\n",
    "where $q_{max}$ is the largest value of $q$, which is assumed to establish the tropical moist adiabatic lapse rate (as per some Isaac Held paper I can't remember currently).\n",
    "\n",
    "\n",
    "***Sensible heat flux***\n",
    "\n",
    "We want to avoid having a prognostic equation for boundary layer temperatures (this is what Bob is interested in in his papers), but if we had an estimate of boundary layer temperature then we can estimate the air-sea temperature difference, which is important to evaporation. The sensible heat flux, $J$, is\n",
    "\\begin{equation}\n",
    "J = \\rho_0 C_H C_p |u| (T_S - T_{skin}),\n",
    "\\end{equation}\n",
    "where $T_{skin}$ is the skin temperature of the ocean (rather than $T_S$ which is really \"near surface temperature\", which would be measured by weather stations and would correspond to our $\\theta$ at the surface.\n",
    "Note that we assume that $C_H$ is the same as for evaporation, which is not always done. You then rearrange this expression to provide a value of the air-sea temperature difference.\n",
    "\n",
    "\n",
    "**Optimisation**\n",
    "\n",
    "We want\n",
    "- $\\int w\\, dxdy = 0$. This is achieved by changing $q_C$. This also guarantees that net free atmospheric $LP$ and $Q_{cl}$ are balanced.\n",
    "- To conserve moisture, $\\int_{ascent} q w\\, dxdy - P = \\int_{descent} q_W w \\,dxdy$. Then iterate. NEED TO CHECK CALCULATION IN MY OWN CODE.\n",
    "- $\\Delta \\theta = \\frac{L}{C_p}(q_{max} - q_{UT})$. Just calculate once you have an estimate of $q_{max}$. Then iterate.\n",
    "- $Q_{cl}$ and the air-sea temperature difference to be correct. I've been using an offline radiation code to calculate free tropospheric (cloud layer) and boundary layer radiative cooling. Boundary layer radiative cooling and $J$ are then forced to balance by the above sensible heat flux equation setting $T_S - T_{skin}$. Free tropopsheric radiative cooling balances $LP$ through the model equations. Then iterate. Fixing this and the moisture conservation should alleviate the need for large evaporation coefficients.\n"
   ]
  }
 ],
 "metadata": {
  "colab": {
   "provenance": []
  },
  "kernelspec": {
   "display_name": "Python 3 (ipykernel)",
   "language": "python",
   "name": "python3"
  },
  "language_info": {
   "codemirror_mode": {
    "name": "ipython",
    "version": 3
   },
   "file_extension": ".py",
   "mimetype": "text/x-python",
   "name": "python",
   "nbconvert_exporter": "python",
   "pygments_lexer": "ipython3",
   "version": "3.13.5"
  }
 },
 "nbformat": 4,
 "nbformat_minor": 4
}
